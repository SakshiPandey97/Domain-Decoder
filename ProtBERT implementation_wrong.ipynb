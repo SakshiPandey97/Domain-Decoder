{
 "cells": [
  {
   "cell_type": "code",
   "execution_count": 22,
   "id": "3277c97f-249d-4608-9e04-4703f1e663ab",
   "metadata": {
    "tags": []
   },
   "outputs": [],
   "source": [
    "import pandas as pd\n",
    "from Bio import SeqIO\n",
    "from transformers import BertTokenizer\n",
    "from torch.utils.data import DataLoader, Dataset, random_split\n",
    "import torch\n",
    "\n",
    "class ProteinDataset(Dataset):\n",
    "    def __init__(self, tokenized_inputs, labels):\n",
    "        self.tokenized_inputs = tokenized_inputs\n",
    "        self.labels = labels\n",
    "\n",
    "    def __len__(self):\n",
    "        return len(self.labels)\n",
    "\n",
    "    def __getitem__(self, idx):\n",
    "        item = {key: val.squeeze() for key, val in self.tokenized_inputs[idx].items()}\n",
    "        item['labels'] = self.labels[idx]\n",
    "        return item\n",
    "\n",
    "\n",
    "binding_sites_df = pd.read_excel(\"binding_sites_info.xlsx\")\n",
    "\n",
    "\n",
    "binding_sites_info = {}\n",
    "for _, row in binding_sites_df.iterrows():\n",
    "    binding_sites_info[row['Identifier']] = list(range(row['Start Index'], row['End Index'] + 1))\n",
    "\n",
    "tokenizer = BertTokenizer.from_pretrained('Rostlab/prot_bert', do_lower_case=False)\n",
    "\n",
    "def preprocess_and_align_labels(fasta_path, binding_sites_info, tokenizer):\n",
    "    tokenized_inputs = []\n",
    "    labels = []\n",
    "    for record in SeqIO.parse(fasta_path, \"fasta\"):\n",
    "        seq_id = record.id\n",
    "        sequence = str(record.seq)\n",
    "        encoded_input = tokenizer(sequence, truncation=True, padding='max_length', max_length=512, return_tensors=\"pt\")\n",
    "        seq_labels = ['O'] * len(encoded_input['input_ids'][0])\n",
    "        if seq_id in binding_sites_info:\n",
    "            for index in binding_sites_info[seq_id]:\n",
    "                if index < len(seq_labels):\n",
    "                    seq_labels[index] = 'B'\n",
    "        label_ids = [1 if label == 'B' else 0 for label in seq_labels]\n",
    "        tokenized_inputs.append(encoded_input)\n",
    "        labels.append(torch.tensor(label_ids, dtype=torch.long))\n",
    "    return tokenized_inputs, labels\n",
    "\n",
    "# Load data and labels\n",
    "fasta_path = \"DNA_Gyrase_UniProt_Cleaned.fasta\"\n",
    "tokenizer = BertTokenizer.from_pretrained('Rostlab/prot_bert', do_lower_case=False)\n",
    "tokenized_inputs, labels = preprocess_and_align_labels(fasta_path, binding_sites_info, tokenizer)\n",
    "\n",
    "# Create Dataset\n",
    "dataset = ProteinDataset(tokenized_inputs, labels)\n",
    "\n",
    "# Splitting the dataset\n",
    "train_size = int(0.7 * len(dataset))\n",
    "valid_size = int(0.15 * len(dataset))\n",
    "test_size = len(dataset) - train_size - valid_size\n",
    "\n",
    "train_dataset, valid_dataset, test_dataset = random_split(dataset, [train_size, valid_size, test_size])\n",
    "\n",
    "# Creating DataLoader for each dataset\n",
    "train_loader = DataLoader(train_dataset, batch_size=4, shuffle=True)\n",
    "valid_loader = DataLoader(valid_dataset, batch_size=4, shuffle=False)\n",
    "test_loader = DataLoader(test_dataset, batch_size=4, shuffle=False)\n"
   ]
  },
  {
   "cell_type": "code",
   "execution_count": 23,
   "id": "3ae9d9b8-5da6-4482-b92c-fd7823753196",
   "metadata": {
    "tags": []
   },
   "outputs": [
    {
     "name": "stderr",
     "output_type": "stream",
     "text": [
      "Some weights of BertForTokenClassification were not initialized from the model checkpoint at Rostlab/prot_bert and are newly initialized: ['classifier.bias', 'classifier.weight']\n",
      "You should probably TRAIN this model on a down-stream task to be able to use it for predictions and inference.\n"
     ]
    },
    {
     "name": "stdout",
     "output_type": "stream",
     "text": [
      "cuda\n"
     ]
    },
    {
     "data": {
      "text/plain": [
       "BertForTokenClassification(\n",
       "  (bert): BertModel(\n",
       "    (embeddings): BertEmbeddings(\n",
       "      (word_embeddings): Embedding(30, 1024, padding_idx=0)\n",
       "      (position_embeddings): Embedding(40000, 1024)\n",
       "      (token_type_embeddings): Embedding(2, 1024)\n",
       "      (LayerNorm): LayerNorm((1024,), eps=1e-12, elementwise_affine=True)\n",
       "      (dropout): Dropout(p=0.0, inplace=False)\n",
       "    )\n",
       "    (encoder): BertEncoder(\n",
       "      (layer): ModuleList(\n",
       "        (0-29): 30 x BertLayer(\n",
       "          (attention): BertAttention(\n",
       "            (self): BertSelfAttention(\n",
       "              (query): Linear(in_features=1024, out_features=1024, bias=True)\n",
       "              (key): Linear(in_features=1024, out_features=1024, bias=True)\n",
       "              (value): Linear(in_features=1024, out_features=1024, bias=True)\n",
       "              (dropout): Dropout(p=0.0, inplace=False)\n",
       "            )\n",
       "            (output): BertSelfOutput(\n",
       "              (dense): Linear(in_features=1024, out_features=1024, bias=True)\n",
       "              (LayerNorm): LayerNorm((1024,), eps=1e-12, elementwise_affine=True)\n",
       "              (dropout): Dropout(p=0.0, inplace=False)\n",
       "            )\n",
       "          )\n",
       "          (intermediate): BertIntermediate(\n",
       "            (dense): Linear(in_features=1024, out_features=4096, bias=True)\n",
       "            (intermediate_act_fn): GELUActivation()\n",
       "          )\n",
       "          (output): BertOutput(\n",
       "            (dense): Linear(in_features=4096, out_features=1024, bias=True)\n",
       "            (LayerNorm): LayerNorm((1024,), eps=1e-12, elementwise_affine=True)\n",
       "            (dropout): Dropout(p=0.0, inplace=False)\n",
       "          )\n",
       "        )\n",
       "      )\n",
       "    )\n",
       "  )\n",
       "  (dropout): Dropout(p=0.0, inplace=False)\n",
       "  (classifier): Linear(in_features=1024, out_features=2, bias=True)\n",
       ")"
      ]
     },
     "execution_count": 23,
     "metadata": {},
     "output_type": "execute_result"
    }
   ],
   "source": [
    "from transformers import BertForTokenClassification, AdamW\n",
    "\n",
    "model = BertForTokenClassification.from_pretrained('Rostlab/prot_bert', num_labels=2)  # 2 labels: 'O' and 'B'\n",
    "\n",
    "device = torch.device(\"cuda\" if torch.cuda.is_available() else \"cpu\")\n",
    "print(device)\n",
    "model.to(device)"
   ]
  },
  {
   "cell_type": "code",
   "execution_count": null,
   "id": "e61c8b8f-93c0-42ff-b009-09183a91fc5c",
   "metadata": {
    "tags": []
   },
   "outputs": [
    {
     "name": "stderr",
     "output_type": "stream",
     "text": [
      "/apps/nlp/1.3/lib/python3.9/site-packages/transformers/optimization.py:429: FutureWarning: This implementation of AdamW is deprecated and will be removed in a future version. Use the PyTorch implementation torch.optim.AdamW instead, or set `no_deprecation_warning=True` to disable this warning\n",
      "  warnings.warn(\n"
     ]
    },
    {
     "name": "stdout",
     "output_type": "stream",
     "text": [
      "Epoch 1/3, Loss: 0.0049, Accuracy: 1.0000\n",
      "Epoch 2/3, Loss: 0.0003, Accuracy: 1.0000\n"
     ]
    }
   ],
   "source": [
    "from transformers import AdamW\n",
    "import torch\n",
    "\n",
    "# Assuming model, train_loader, and device are already defined and properly initialized\n",
    "\n",
    "optimizer = AdamW(model.parameters(), lr=5e-5)\n",
    "model.train()\n",
    "num_epochs = 3  # Define the number of epochs\n",
    "\n",
    "def calculate_accuracy(logits, labels):\n",
    "    predictions = torch.argmax(logits, dim=-1)\n",
    "    correct_predictions = torch.eq(predictions, labels).float()\n",
    "    return correct_predictions.mean()\n",
    "\n",
    "for epoch in range(num_epochs):\n",
    "    total_loss, total_accuracy = 0.0, 0.0\n",
    "    num_batches = 0\n",
    "    for batch in train_loader:\n",
    "        batch = {k: v.to(device) for k, v in batch.items()}\n",
    "        outputs = model(**batch)\n",
    "        loss = outputs.loss\n",
    "        loss.backward()\n",
    "        optimizer.step()\n",
    "        optimizer.zero_grad()\n",
    "\n",
    "        logits = outputs.logits\n",
    "        accuracy = calculate_accuracy(logits, batch['labels'])\n",
    "\n",
    "        total_loss += loss.item()\n",
    "        total_accuracy += accuracy.item()\n",
    "        num_batches += 1\n",
    "    \n",
    "    epoch_loss = total_loss / num_batches\n",
    "    epoch_accuracy = total_accuracy / num_batches\n",
    "    print(f'Epoch {epoch + 1}/{num_epochs}, Loss: {epoch_loss:.4f}, Accuracy: {epoch_accuracy:.4f}')\n",
    "\n",
    "model.save_pretrained('protbert_trained')\n",
    "tokenizer.save_pretrained('protbert_tokenizer')\n"
   ]
  },
  {
   "cell_type": "code",
   "execution_count": null,
   "id": "03f09923-5d4d-4e3b-a6d3-800bd21d5b1b",
   "metadata": {},
   "outputs": [],
   "source": [
    "def evaluate(model, valid_loader):\n",
    "    model.eval()\n",
    "    total_loss, total_accuracy = 0, 0\n",
    "    for batch in valid_loader:\n",
    "        batch = {k: v.to(device) for k, v in batch.items()}\n",
    "        outputs = model(**batch)\n",
    "        loss = outputs.loss\n",
    "        total_loss += loss.item()\n",
    "        logits = outputs.logits\n",
    "        accuracy = calculate_accuracy(logits, batch['labels'])\n",
    "        predictions = torch.argmax(logits, dim=-1)\n",
    "        labels = batch['labels']\n",
    "        total_accuracy += (predictions == labels).float().mean()\n",
    "        \n",
    "    return total_loss / len(valid_loader), total_accuracy / len(valid_loader)\n",
    "\n",
    "val_loss, val_accuracy = evaluate(model, valid_loader)\n",
    "print(f\"Validation Loss: {val_loss:.4f}, Validation Accuracy: {val_accuracy:.4f}\")"
   ]
  },
  {
   "cell_type": "code",
   "execution_count": null,
   "id": "1d960078-846c-4c60-a1f1-6379b07aa378",
   "metadata": {},
   "outputs": [],
   "source": []
  }
 ],
 "metadata": {
  "kernelspec": {
   "display_name": "nlp-1.3",
   "language": "python",
   "name": "nlp-1.3"
  },
  "language_info": {
   "codemirror_mode": {
    "name": "ipython",
    "version": 3
   },
   "file_extension": ".py",
   "mimetype": "text/x-python",
   "name": "python",
   "nbconvert_exporter": "python",
   "pygments_lexer": "ipython3",
   "version": "3.9.18"
  }
 },
 "nbformat": 4,
 "nbformat_minor": 5
}
