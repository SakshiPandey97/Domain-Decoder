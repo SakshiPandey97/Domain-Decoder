{
 "cells": [
  {
   "cell_type": "markdown",
   "metadata": {},
   "source": [
    "# Domain Decoders Sequence Prediction\n"
   ]
  },
  {
   "cell_type": "markdown",
   "metadata": {},
   "source": [
    "## Import Libraries"
   ]
  },
  {
   "cell_type": "code",
   "execution_count": 1,
   "metadata": {},
   "outputs": [],
   "source": [
    "import pandas as pd\n",
    "import numpy as np\n",
    "from Bio import SeqIO\n",
    "from sklearn.preprocessing import StandardScaler\n",
    "import warnings\n",
    "warnings.filterwarnings(action='once')"
   ]
  },
  {
   "cell_type": "markdown",
   "metadata": {},
   "source": [
    "## Import Data"
   ]
  },
  {
   "cell_type": "code",
   "execution_count": 12,
   "metadata": {},
   "outputs": [
    {
     "name": "stdout",
     "output_type": "stream",
     "text": [
      "Model Head:\n",
      "     -0.202641  -0.44152558  0.7237159  -0.051630057  -0.1796543  -0.17303413  \\\n",
      "AAA                                                                             \n",
      "ALA  -0.487939    -0.286591   0.723286      0.018458   -0.026013    -0.185017   \n",
      "LLL  -0.209581    -0.049195   0.687492      0.043283   -0.085327    -0.166621   \n",
      "LAA  -0.449757    -0.301040   0.650756     -0.038405   -0.143120    -0.177706   \n",
      "AAL  -0.322143    -0.279880   0.750441      0.031342   -0.126243    -0.134607   \n",
      "ALL  -0.377936    -0.210822   0.723277      0.042915   -0.042336    -0.184456   \n",
      "LLA  -0.325802    -0.160612   0.716421      0.140574   -0.105720    -0.169147   \n",
      "SSS   0.175785    -0.103099   0.445012     -0.116389   -0.366477    -0.205607   \n",
      "LAL  -0.347601    -0.276936   0.759509      0.073802    0.040129    -0.204613   \n",
      "EAL  -0.476662    -0.229644   0.596552     -0.157708   -0.179475    -0.120480   \n",
      "AAG  -0.460274    -0.385322   0.771879      0.123707   -0.182858    -0.174014   \n",
      "\n",
      "     -0.5336818  -0.11842774  -0.29594347  0.20798174  ...  0.10346055  \\\n",
      "AAA                                                    ...               \n",
      "ALA   -0.418640    -0.108126    -0.080837    0.071797  ...    0.049553   \n",
      "LLL   -0.390646    -0.066851    -0.001190    0.004624  ...    0.088149   \n",
      "LAA   -0.382097    -0.067657    -0.075877    0.052444  ...   -0.055329   \n",
      "AAL   -0.416561    -0.080616    -0.120227    0.101790  ...    0.029709   \n",
      "ALL   -0.404717    -0.124001     0.019849    0.099604  ...    0.068476   \n",
      "LLA   -0.467110    -0.114021    -0.017606    0.069313  ...   -0.003497   \n",
      "SSS   -0.413370    -0.172332    -0.053659   -0.006575  ...    0.038888   \n",
      "LAL   -0.410828    -0.027634     0.006813    0.094726  ...   -0.026143   \n",
      "EAL   -0.296757    -0.170280    -0.008014    0.068219  ...    0.067036   \n",
      "AAG   -0.386539    -0.062943    -0.118821    0.030014  ...    0.081578   \n",
      "\n",
      "     0.08766685  -0.002761118  -0.27165273  0.05406976  0.077483445  \\\n",
      "AAA                                                                   \n",
      "ALA    0.059046     -0.010251    -0.172349    0.029979    -0.031024   \n",
      "LLL    0.072813     -0.123380    -0.199892    0.042284    -0.053610   \n",
      "LAA    0.084730      0.001758    -0.199165    0.004857    -0.003792   \n",
      "AAL    0.035406     -0.047870    -0.132200    0.046381    -0.019915   \n",
      "ALL    0.131889     -0.057058    -0.164135    0.003458    -0.097322   \n",
      "LLA    0.108235     -0.090846    -0.110949    0.078946    -0.042742   \n",
      "SSS    0.087968     -0.238242    -0.545965   -0.068023     0.111635   \n",
      "LAL    0.139871     -0.144142    -0.153625   -0.012268     0.016268   \n",
      "EAL    0.167827      0.069834    -0.188456    0.162565    -0.124384   \n",
      "AAG    0.104950     -0.007324    -0.271840    0.052439     0.065907   \n",
      "\n",
      "     -0.11654436  -0.029171592  0.010106765  0.20724945  \n",
      "AAA                                                      \n",
      "ALA    -0.102782      0.114467     0.055506    0.167345  \n",
      "LLL    -0.057742      0.031487     0.116428    0.052871  \n",
      "LAA    -0.077541      0.029376     0.034310    0.229972  \n",
      "AAL    -0.063717      0.073418     0.010455    0.117893  \n",
      "ALL    -0.000164      0.102995     0.075068    0.094654  \n",
      "LLA    -0.049499      0.071640     0.017914    0.075820  \n",
      "SSS     0.001057     -0.107623     0.237846    0.259407  \n",
      "LAL    -0.041680      0.064420     0.007695    0.096143  \n",
      "EAL    -0.018320      0.114497    -0.036499    0.117207  \n",
      "AAG    -0.122258      0.002264     0.090544    0.104717  \n",
      "\n",
      "[10 rows x 100 columns]\n",
      "Size of the DataFrame: (10410, 100)\n",
      "Unique Values: 10410\n",
      "\n",
      "Example Protein Sequence:\n",
      "\n",
      "MSDLAREITPVNIEEELKSSYLDYAMSVIVGRALPDVRDGLKPVHRRVLYAMNVLGNDWNKAYKKSARVVGDVIGKYHPHGDSAVYDTIVRMAQPFSLRYMLVDGQGNFGSIDGDSAAAMRYTEIRLAKIAHELMADLEKETVDFVDNYDGTEKIPDVMPTKIPNLLVNGSSGIAVGMATNIPPHNLTEVINGCLAYIDDEDISIEGLMEHIPGPDFPTAAIINGRRGIEEAYRTGRGKVYIRARAEVEVDAKTGRETIIVHEIPYQVNKARLIEKIAELVKEKRVEGISALRDESDKDGMRIVIEVKRDAVGEVVLNNLYSQTQLQVSFGINMVALHHGQPKIMNLKDIIAAFVRHRREVVTRRTIFELRKARDRAHILEALAVALANIDPIIELIRHAPTPAEAKTALVANPWQLGNVAAMLERAGDDAARPEWLEPEFGVRDGLYYLTEQQAQAILDLRLQKLTGLEHEKLLDEYKELLDQIAELLRILGSADRLMEVIREELELVREQFGDKRRTEITANSADINLEDLITQEDVVVTLSHQGYVKYQPLSEYEAQRRGGKGKSAARIKEEDFIDRLLVANTHDHILCFSSRGRVYSMKVYQLPEATRGARGRPIVNLLPLEQDERITAILPVTEFEEGVKVFMATANGTVKKTVLTEFNRLRTAGKVAIKLVDGDELIGVDLTSGEDEVMLFSAEGKVVRFKESSVRAMGCNTTGVRGIRLGEGDKVVSLIVPRGDGAILTATQNGYGKRTAVAEYPTKSRATKGVISIKVTERNGLVVGAVQVDDCDQIMMITDAGTLVRTRVSEISIVGRNTQGVILIRTAEDENVVGLQRVAEPVDEEDLDTIDGSAAEGDDEIAPEVDVDDEPEEE\n"
     ]
    },
    {
     "name": "stderr",
     "output_type": "stream",
     "text": [
      "C:\\ProgramData\\Anaconda3\\lib\\site-packages\\ipykernel\\ipkernel.py:287: DeprecationWarning: `should_run_async` will not call `transform_cell` automatically in the future. Please pass the result to `transformed_cell` argument and any exception that happen during thetransform in `preprocessing_exc_tuple` in IPython 7.17 and above.\n",
      "  and should_run_async(code)\n"
     ]
    }
   ],
   "source": [
    "data_path = \"C:\\\\Users\\\\avane\\\\Desktop\\\\3-gram-final.csv\"\n",
    "sequence_path = \"C:\\\\Users\\\\avane\\\\Desktop\\\\ecoli.fasta\"\n",
    "\n",
    "model_df = pd.read_csv(data_path, index_col=0, delimiter=',')\n",
    "print(\"Model Head:\")\n",
    "print(model_df.head(10))\n",
    "print(\"Size of the DataFrame:\", model_df.shape)\n",
    "unique_values = model_df.index.nunique()\n",
    "print(f\"Unique Values: {unique_values}\")\n",
    "sequences = SeqIO.to_dict(SeqIO.parse(sequence_path, \"fasta\"))\n",
    "print(\"\\nExample Protein Sequence:\\n\")\n",
    "print(str(list(sequences.values())[0].seq))"
   ]
  },
  {
   "cell_type": "markdown",
   "metadata": {},
   "source": [
    "## Standardization and Vectorization\n",
    "* generate_kmers - Generate overlapping k-mers of given length from a Protein sequence\n",
    "* prot_vectorization - Vectorize Protein k-mers using a model loaded from a CSV file\n",
    "* standardize_vectors - Standardize the feature vectors\n",
    "* vectorize_sequences - Vectorize sequences based on a model DataFrame\n",
    "* check_kmers_in_model - Find k-mers in model dataframe\n",
    "* get_standardize_vector_sequence - Returns Standardize vectorized sequences"
   ]
  },
  {
   "cell_type": "code",
   "execution_count": 3,
   "metadata": {},
   "outputs": [
    {
     "name": "stderr",
     "output_type": "stream",
     "text": [
      "C:\\ProgramData\\Anaconda3\\lib\\site-packages\\ipykernel\\ipkernel.py:287: DeprecationWarning: `should_run_async` will not call `transform_cell` automatically in the future. Please pass the result to `transformed_cell` argument and any exception that happen during thetransform in `preprocessing_exc_tuple` in IPython 7.17 and above.\n",
      "  and should_run_async(code)\n"
     ]
    }
   ],
   "source": [
    "def generate_kmers(prot_sequence, k=3):\n",
    "    \"\"\"Generate overlapping k-mers from a Protein sequence.\"\"\"\n",
    "    return [prot_sequence[i:i+k] for i in range(len(prot_sequence) - k + 1)]\n",
    "\n",
    "def prot_vectorization(kmers, model_df, dimensions):\n",
    "    \"\"\"Vectorize Protein k-mers using a model loaded from a CSV file.\"\"\"\n",
    "    vector = np.zeros((len(kmers), dimensions))\n",
    "    for i, kmer in enumerate(kmers):\n",
    "        if kmer in model_df.index:\n",
    "            vector[i] = model_df.loc[kmer].values\n",
    "    return np.mean(vector, axis=0)\n",
    "\n",
    "def standardize_vectors(vectors):\n",
    "    \"\"\"Standardize the feature vectors.\"\"\"\n",
    "    scaler = StandardScaler()\n",
    "    standardized_vectors = scaler.fit_transform(vectors)\n",
    "    return standardized_vectors\n",
    "\n",
    "def vectorize_sequences(sequences, model_df, k):\n",
    "    \"\"\"Vectorize sequences based on a model DataFrame.\"\"\"\n",
    "    vectorized_seqs = []\n",
    "    seq_ids = []\n",
    "    \n",
    "    for seq_id, sequence in sequences.items():\n",
    "        kmers = generate_kmers(str(sequence.seq), k)\n",
    "        dimensions = model_df.shape[1]\n",
    "        vec = prot_vectorization(kmers, model_df, dimensions)\n",
    "        vectorized_seqs.append(vec)\n",
    "        seq_ids.append(seq_id)\n",
    "    \n",
    "    return vectorized_seqs, seq_ids\n",
    "\n",
    "def check_kmers_in_model(kmers, model_df):\n",
    "    \"\"\"Check if k-mers are in the model DataFrame.\"\"\"\n",
    "    for kmer in kmers:\n",
    "        if kmer in model_df.index:\n",
    "            print(f\"{kmer} found in model\")\n",
    "        else:\n",
    "            print(f\"{kmer} NOT found in model\")\n",
    "            \n",
    "def get_standardize_vector_sequence(vectorized_seqs):\n",
    "    \"\"\"Standardize vectorized sequences.\"\"\"\n",
    "    vectorized_seqs_np = np.array(vectorized_seqs)\n",
    "    if len(vectorized_seqs_np.shape) == 1:\n",
    "        vectorized_seqs_np = np.stack(vectorized_seqs_np, axis=0)\n",
    "    \n",
    "    standardized_vectors = standardize_vectors(vectorized_seqs_np)\n",
    "    return standardized_vectors"
   ]
  },
  {
   "cell_type": "code",
   "execution_count": 4,
   "metadata": {
    "scrolled": true
   },
   "outputs": [],
   "source": [
    "#     # Example 3-mers from the first sequence\n",
    "#     example_kmers = generate_kmers(str(list(sequences.values())[0].seq), k=3)\n",
    "#     print(example_kmers[:10])\n",
    "\n",
    "# Vectorize sequences\n",
    "vectorized_seqs, seq_ids = vectorize_sequences(sequences, model_df, k=3)\n",
    "\n",
    "if len(vectorized_seqs) == 0 or vectorized_seqs[0].size == 0:\n",
    "    print(\"No sequences were vectorized. Check the vectorization process.\")\n",
    "else:\n",
    "    # Standardize vectors\n",
    "    standardized_vectors = get_standardize_vector_sequence(vectorized_seqs)\n",
    "    # Save to CSV\n",
    "    df = pd.DataFrame(standardized_vectors, index=seq_ids)\n",
    "    df.to_csv('C:\\\\Users\\\\avane\\\\Desktop\\\\gyrase_vectorized1.csv')"
   ]
  },
  {
   "cell_type": "code",
   "execution_count": 8,
   "metadata": {},
   "outputs": [
    {
     "name": "stdout",
     "output_type": "stream",
     "text": [
      "<bound method NDFrame.head of                         0    1    2    3    4    5    6    7    8    9  ...  \\\n",
      "sp|P0AES4|GYRA_ECOLI  0.0  0.0  0.0  0.0  0.0  0.0  0.0  0.0  0.0  0.0  ...   \n",
      "\n",
      "                       90   91   92   93   94   95   96   97   98   99  \n",
      "sp|P0AES4|GYRA_ECOLI  0.0  0.0  0.0  0.0  0.0  0.0  0.0  0.0  0.0  0.0  \n",
      "\n",
      "[1 rows x 100 columns]>\n"
     ]
    },
    {
     "name": "stderr",
     "output_type": "stream",
     "text": [
      "C:\\ProgramData\\Anaconda3\\lib\\site-packages\\ipykernel\\ipkernel.py:287: DeprecationWarning: `should_run_async` will not call `transform_cell` automatically in the future. Please pass the result to `transformed_cell` argument and any exception that happen during thetransform in `preprocessing_exc_tuple` in IPython 7.17 and above.\n",
      "  and should_run_async(code)\n"
     ]
    }
   ],
   "source": [
    "standardized = pd.read_csv(\"C:\\\\Users\\\\avane\\\\Desktop\\\\gyrase_vectorized1.csv\", index_col=0, delimiter=',')\n",
    "print(standardized.head)"
   ]
  },
  {
   "cell_type": "code",
   "execution_count": 9,
   "metadata": {},
   "outputs": [
    {
     "name": "stderr",
     "output_type": "stream",
     "text": [
      "C:\\ProgramData\\Anaconda3\\lib\\site-packages\\ipykernel\\ipkernel.py:287: DeprecationWarning: `should_run_async` will not call `transform_cell` automatically in the future. Please pass the result to `transformed_cell` argument and any exception that happen during thetransform in `preprocessing_exc_tuple` in IPython 7.17 and above.\n",
      "  and should_run_async(code)\n"
     ]
    },
    {
     "data": {
      "text/plain": [
       "' Hugging Face Transformers: A popular library that provides a wide range of pre-trained models, including BERT, \\nfor various NLP tasks. While primarily focused on natural language, it can be adapted for biological sequences.'"
      ]
     },
     "execution_count": 9,
     "metadata": {},
     "output_type": "execute_result"
    }
   ],
   "source": [
    "#ProtBERT can be applied.\n",
    "\"\"\" Hugging Face Transformers: A popular library that provides a wide range of pre-trained models, including BERT, \n",
    "for various NLP tasks. While primarily focused on natural language, it can be adapted for biological sequences.\"\"\"\n",
    "\n",
    "#then classification or clustering?\n",
    "\n"
   ]
  }
 ],
 "metadata": {
  "kernelspec": {
   "display_name": "Python 3",
   "language": "python",
   "name": "python3"
  },
  "language_info": {
   "codemirror_mode": {
    "name": "ipython",
    "version": 3
   },
   "file_extension": ".py",
   "mimetype": "text/x-python",
   "name": "python",
   "nbconvert_exporter": "python",
   "pygments_lexer": "ipython3",
   "version": "3.8.5"
  }
 },
 "nbformat": 4,
 "nbformat_minor": 5
}
