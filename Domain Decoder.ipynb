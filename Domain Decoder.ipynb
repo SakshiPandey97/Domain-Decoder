{
 "cells": [
  {
   "cell_type": "code",
   "execution_count": 1,
   "id": "a0962328",
   "metadata": {},
   "outputs": [
    {
     "name": "stdout",
     "output_type": "stream",
     "text": [
      "ID: 6RKS_1|Chains\n",
      "Description: 6RKS_1|Chains A, C|DNA gyrase subunit A|Escherichia coli K-12 (83333)\n",
      "Sequence: MSDLAREITPVNIEEELKSSYLDYAMSVIVGRALPDVRDGLKPVHRRVLYAMNVLGNDWNKAYKKSARVVGDVIGKYHPHGDSAVYDTIVRMAQPFSLRYMLVDGQGNFGSIDGDSAAAMRYTEIRLAKIAHELMADLEKETVDFVDNYDGTEKIPDVMPTKIPNLLVNGSSGIAVGMATNIPPHNLTEVINGCLAYIDDEDISIEGLMEHIPGPDFPTAAIINGRRGIEEAYRTGRGKVYIRARAEVEVDAKTGRETIIVHEIPYQVNKARLIEKIAELVKEKRVEGISALRDESDKDGMRIVIEVKRDAVGEVVLNNLYSQTQLQVSFGINMVALHHGQPKIMNLKDIIAAFVRHRREVVTRRTIFELRKARDRAHILEALAVALANIDPIIELIRHAPTPAEAKTALVANPWQLGNVAAMLERAGDDAARPEWLEPEFGVRDGLYYLTEQQAQAILDLRLQKLTGLEHEKLLDEYKELLDQIAELLRILGSADRLMEVIREELELVREQFGDKRRTEITANSADINLEDLITQEDVVVTLSHQGYVKYQPLSEYEAQRRGGKGKSAARIKEEDFIDRLLVANTHDHILCFSSRGRVYSMKVYQLPEATRGARGRPIVNLLPLEQDERITAILPVTEFEEGVKVFMATANGTVKKTVLTEFNRLRTAGKVAIKLVDGDELIGVDLTSGEDEVMLFSAEGKVVRFKESSVRAMGCNTTGVRGIRLGEGDKVVSLIVPRGDGAILTATQNGYGKRTAVAEYPTKSRATKGVISIKVTERNGLVVGAVQVDDCDQIMMITDAGTLVRTRVSEISIVGRNTQGVILIRTAEDENVVGLQRVAEPVDEEDLDTIDGSAAEGDDEIAPEVDVDDEPEEE\n",
      "\n",
      "ID: 6RKS_2|Chains\n",
      "Description: 6RKS_2|Chains B, D|DNA gyrase subunit B|Escherichia coli K-12 (83333)\n",
      "Sequence: MSNSYDSSSIKVLKGLDAVRKRPGMYIGDTDDGTGLHHMVFEVVDNAIDEALAGHCKEIIVTIHADNSVSVQDDGRGIPTGIHPEEGVSAAEVIMTVLHAGGKFDDNSYKVSGGLHGVGVSVVNALSQKLELVIQREGKIHRQIYEHGVPQAPLAVTGETEKTGTMVRFWPSLETFTNVTEFEYEILAKRLRELSFLNSGVSIRLRDKRDGKEDHFHYEGGIKAFVEYLNKNKTPIHPNIFYFSTEKDGIGVEVALQWNDGFQENIYCFTNNIPQRDGGTHLAGFRAAMTRTLNAYMDKEGYSKKAKVSATGDDAREGLIAVVSVKVPDPKFSSQTKDKLVSSEVKSAVEQQMNELLAEYLLENPTDAKIVVGKIIDAARAREAARRAREMTRRKGALDLAGLPGKLADCQERDPALSELYLVEGDSAGGSAKQGRNRKNQAILPLKGKILNVEKARFDKMLSSQEVATLITALGCGIGRDEYNPDKLRYHSIIIMTDADVDGSHIRTLLLTFFYRQMPEIVERGHVYIAQPPLYKVKKGKQEQYIKDDEAMDQYQISIALDGATLHTNASAPALAGEALEKLVSEYNATQKMINRMERRYPKAMLKELIYQPTLTEADLSDEQTVTRWVNALVSELNDKEQHGSQWKFDVHTNAEQNLFEPIVRVRTHGVDTDYPLDHEFITGGEYRRICTLGEKLRGLLEEDAFIERGERRQPVASFEQALDWLVKESRRGLSIQRYKGLGEMNPEQLWETTMDPESRRMLRVTVKDAIAADQLFTTLMGDAVEPRRAFIEENALKAANIDI\n",
      "\n",
      "ID: 6RKS_3|Chains\n",
      "Description: 6RKS_3|Chains E, F|DNA Strand 1|Escherichia coli (562)\n",
      "Sequence: ATCATAAGCCGTAG\n",
      "\n",
      "ID: 6RKS_4|Chains\n",
      "Description: 6RKS_4|Chains G, H|DNA Strand 2|Escherichia coli (562)\n",
      "Sequence: GTACCTACGGCTTATGAT\n",
      "\n"
     ]
    }
   ],
   "source": [
    "from Bio import SeqIO\n",
    "import pickle\n",
    "import numpy as np\n",
    "from Bio import SeqIO\n",
    "import pandas as pd\n",
    "from sklearn.preprocessing import StandardScaler\n",
    "import warnings\n",
    "warnings.filterwarnings(action='once')\n",
    "\n",
    "def generate_kmers(dna_sequence, k=3):\n",
    "    \"\"\"Generate overlapping k-mers from a DNA sequence.\"\"\"\n",
    "    return [dna_sequence[i:i+k] for i in range(len(dna_sequence) - k + 1)]\n",
    "\n",
    "def dna_vectorization(kmers, model, dimensions):\n",
    "    \"\"\"Vectorize DNA k-mers using a pre-trained model.\"\"\"\n",
    "    vector = np.zeros((len(kmers), dimensions))\n",
    "    for i, kmer in enumerate(kmers):\n",
    "        if kmer in model:\n",
    "            vector[i] = model[kmer]\n",
    "    return np.mean(vector, axis=0)\n",
    "\n",
    "def standardize_vectors(vectors):\n",
    "    \"\"\"Standardize the feature vectors.\"\"\"\n",
    "    scaler = StandardScaler()\n",
    "    standardized_vectors = scaler.fit_transform(vectors)\n",
    "    return standardized_vectors\n",
    "\n",
    "def main():\n",
    "    # Load your pre-trained k-mer vectorization model\n",
    "    with open('path_to_your_model.pkl', 'rb') as model_file:\n",
    "        vec_model = pickle.load(model_file)\n",
    "    \n",
    "    sequences = SeqIO.to_dict(SeqIO.parse(\"rcsb_pdb_6RKS.fasta\", \"fasta\"))\n",
    "    vectorized_seqs = []\n",
    "    seq_ids = []\n",
    "    \n",
    "    for seq_id, sequence in sequences.items():\n",
    "        kmers = generate_kmers(str(sequence.seq), k=3)  # Adjust k as needed\n",
    "        vec = dna_vectorization(kmers, vec_model, 100)  # Assuming model vectors have 100 dimensions\n",
    "        vectorized_seqs.append(vec)\n",
    "        seq_ids.append(seq_id)\n",
    "    \n",
    "    # Standardize vectors\n",
    "    standardized_vectors = standardize_vectors(np.array(vectorized_seqs))\n",
    "    \n",
    "    # Save to CSV\n",
    "    df = pd.DataFrame(standardized_vectors, index=seq_ids)\n",
    "    df.to_csv('gyrase_vectorized.csv')\n",
    "\n",
    "if __name__ == \"__main__\":\n",
    "    main()\n"
   ]
  },
  {
   "cell_type": "code",
   "execution_count": null,
   "id": "cf4172b4",
   "metadata": {},
   "outputs": [],
   "source": []
  }
 ],
 "metadata": {
  "kernelspec": {
   "display_name": "Python 3 (ipykernel)",
   "language": "python",
   "name": "python3"
  },
  "language_info": {
   "codemirror_mode": {
    "name": "ipython",
    "version": 3
   },
   "file_extension": ".py",
   "mimetype": "text/x-python",
   "name": "python",
   "nbconvert_exporter": "python",
   "pygments_lexer": "ipython3",
   "version": "3.11.5"
  }
 },
 "nbformat": 4,
 "nbformat_minor": 5
}
